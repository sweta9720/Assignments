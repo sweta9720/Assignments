{
 "cells": [
  {
   "cell_type": "markdown",
   "metadata": {},
   "source": [
    "Assignment 01-July-2023 OOPs - Solution\n",
    "\n",
    "Submitted by : Sweta Dhara"
   ]
  },
  {
   "cell_type": "markdown",
   "metadata": {},
   "source": [
    "1. What is the primary goal of Object-Oriented Programming (OOP)?\n",
    "\n",
    "A: Object-Oriented Programming (OOP) is base don classes and objects . It is used to structure a program into simple , reusable piece of code.It aims to implement real-world entities like inheritance, polymorphisms, encapsulation, etc. in the programming. The main concept of OOPs is to bind the data and the functions that work on that together as a single unit so that no other part of the code can access this data.\n",
    "\n",
    "2. What is an object in Python?\n",
    "\n",
    "A: In Python, an object is a fundamental concept that represents a particular instance of a class. It can be thought of as a self-contained entity that encapsulates both data (attributes) and behavior (methods). Objects are created from classes, which serve as blueprints or templates defining their structure and behavior. Every object has a unique identity and can interact with other objects by invoking their methods or accessing their attributes.\n",
    "\n",
    "3. What is a class in Python?\n",
    "\n",
    "A: A Class is an object constructor or a blueprint from which objects are created. It provides a means of bundling data and functionality together.Class in python are the user-defined blueprints that help us create an object.\n",
    "\n",
    "\n",
    "4. What are attributes and methods in a class?\n",
    "\n",
    "A: An attribute is a variable of any type that is declared directly in a class. A function stored in an instance or class is called a method.\n",
    "\n",
    "\n",
    "5. What is the difference between class variables and instance variables in Python?\n",
    "\n",
    "A: Class variables are those variables that are defined within a class and before the class constructor i,e, __init__ method. Because class variables are shared by all instances of the class and owned by the class itself. Class variables are typically placed below the class name and outside of instance methods.\n",
    "\n",
    "Instance variables are declared inside the constructor method of the class i.e the __init__ method. Every object has its own value in an instance variable.Instance variables are used to store data that is unique to each instance of a class, such as object properties.\n",
    "\n",
    "\n",
    "6. What is the purpose of the self parameter in Python class methods?\n",
    "\n",
    "A: Self represents the instance of the class. By using the “self” we can access the attributes and methods of the class in Python. It binds the attributes with the given arguments. If there was no self argument, the same class couldn't hold the information for both these objects.\n",
    "\n",
    "7. For a library management system, you have to design the \"Book\" class with OOP\n",
    "principles in mind. The “Book” class will have following attributes:\n",
    "a. title: Represents the title of the book.\n",
    "b. author: Represents the author(s) of the book.\n",
    "c. isbn: Represents the ISBN (International Standard Book Number) of the book.\n",
    "d. publication_year: Represents the year of publication of the book.\n",
    "e. available_copies: Represents the number of copies available for checkout.\n",
    "The class will also include the following methods:\n",
    "a. check_out(self): Decrements the available copies by one if there are copies\n",
    "available for checkout.\n",
    "b. return_book(self): Increments the available copies by one when a book is\n",
    "returned.\n",
    "c. display_book_info(self): Displays the information about the book, including its\n",
    "attributes and the number of available copies."
   ]
  },
  {
   "cell_type": "code",
   "execution_count": 1,
   "metadata": {},
   "outputs": [
    {
     "name": "stdout",
     "output_type": "stream",
     "text": [
      "Book 'The Catcher in the Rye' checked out. 2 copy(s) available.\n",
      "Book 'The Catcher in the Rye' returned. 3 copy(s) available.\n",
      "Title: The Catcher in the Rye\n",
      "Author(s): J.D. Salinger\n",
      "ISBN: 9780316769488\n",
      "Publication Year: 1951\n",
      "Available Copies: 3\n"
     ]
    }
   ],
   "source": [
    "class Book:\n",
    "    def __init__(self, title, author, isbn, publication_year, available_copies):\n",
    "        self.title = title\n",
    "        self.author = author\n",
    "        self.isbn = isbn\n",
    "        self.publication_year = publication_year\n",
    "        self.available_copies = available_copies\n",
    "    \n",
    "    def check_out(self):\n",
    "        if self.available_copies > 0:\n",
    "            self.available_copies -= 1\n",
    "            print(f\"Book '{self.title}' checked out. {self.available_copies} copy(s) available.\")\n",
    "        else:\n",
    "            print(f\"Sorry, '{self.title}' is not available for checkout.\")\n",
    "    \n",
    "    def return_book(self):\n",
    "        self.available_copies += 1\n",
    "        print(f\"Book '{self.title}' returned. {self.available_copies} copy(s) available.\")\n",
    "    \n",
    "    def display_book_info(self):\n",
    "        print(f\"Title: {self.title}\")\n",
    "        print(f\"Author(s): {self.author}\")\n",
    "        print(f\"ISBN: {self.isbn}\")\n",
    "        print(f\"Publication Year: {self.publication_year}\")\n",
    "        print(f\"Available Copies: {self.available_copies}\")\n",
    "\n",
    "book1 = Book(\"The Catcher in the Rye\", \"J.D. Salinger\", \"9780316769488\", 1951, 3)\n",
    "book1.check_out()\n",
    "book1.return_book()\n",
    "book1.display_book_info()\n"
   ]
  },
  {
   "cell_type": "markdown",
   "metadata": {},
   "source": [
    "8. For a ticket booking system, you have to design the \"Ticket\" class with OOP\n",
    "principles in mind. The “Ticket” class should have the following attributes:\n",
    "a. ticket_id: Represents the unique identifier for the ticket.\n",
    "b. event_name: Represents the name of the event.\n",
    "c. event_date: Represents the date of the event.\n",
    "d. venue: Represents the venue of the event.\n",
    "e. seat_number: Represents the seat number associated with the ticket.\n",
    "f. price: Represents the price of the ticket.\n",
    "g. is_reserved: Represents the reservation status of the ticket.\n",
    "The class also includes the following methods:\n",
    "a. reserve_ticket(self): Marks the ticket as reserved if it is not already reserved.\n",
    "b. cancel_reservation(self): Cancels the reservation of the ticket if it is already\n",
    "reserved.\n",
    "c. display_ticket_info(self): Displays the information about the ticket, including its\n",
    "attributes and reservation status."
   ]
  },
  {
   "cell_type": "code",
   "execution_count": 2,
   "metadata": {},
   "outputs": [
    {
     "name": "stdout",
     "output_type": "stream",
     "text": [
      "Ticket 101 for 'Concert Night' is now reserved.\n",
      "Reservation for Ticket 101 has been canceled.\n",
      "Ticket ID: 101\n",
      "Event Name: Concert Night\n",
      "Event Date: 2023-09-15\n",
      "Venue: City Stadium\n",
      "Seat Number: A25\n",
      "Price: 50.0\n",
      "Reservation Status: Not Reserved\n"
     ]
    }
   ],
   "source": [
    "class Ticket:\n",
    "    def __init__(self, ticket_id, event_name, event_date, venue, seat_number, price):\n",
    "        self.ticket_id = ticket_id\n",
    "        self.event_name = event_name\n",
    "        self.event_date = event_date\n",
    "        self.venue = venue\n",
    "        self.seat_number = seat_number\n",
    "        self.price = price\n",
    "        self.is_reserved = False\n",
    "    \n",
    "    def reserve_ticket(self):\n",
    "        if not self.is_reserved:\n",
    "            self.is_reserved = True\n",
    "            print(f\"Ticket {self.ticket_id} for '{self.event_name}' is now reserved.\")\n",
    "        else:\n",
    "            print(f\"Ticket {self.ticket_id} is already reserved.\")\n",
    "    \n",
    "    def cancel_reservation(self):\n",
    "        if self.is_reserved:\n",
    "            self.is_reserved = False\n",
    "            print(f\"Reservation for Ticket {self.ticket_id} has been canceled.\")\n",
    "        else:\n",
    "            print(f\"Ticket {self.ticket_id} is not reserved, so cannot cancel reservation.\")\n",
    "    \n",
    "    def display_ticket_info(self):\n",
    "        print(f\"Ticket ID: {self.ticket_id}\")\n",
    "        print(f\"Event Name: {self.event_name}\")\n",
    "        print(f\"Event Date: {self.event_date}\")\n",
    "        print(f\"Venue: {self.venue}\")\n",
    "        print(f\"Seat Number: {self.seat_number}\")\n",
    "        print(f\"Price: {self.price}\")\n",
    "        print(f\"Reservation Status: {'Reserved' if self.is_reserved else 'Not Reserved'}\")\n",
    "\n",
    "ticket1 = Ticket(101, \"Concert Night\", \"2023-09-15\", \"City Stadium\", \"A25\", 50.0)\n",
    "ticket1.reserve_ticket()\n",
    "ticket1.cancel_reservation()\n",
    "ticket1.display_ticket_info()\n"
   ]
  },
  {
   "cell_type": "markdown",
   "metadata": {},
   "source": [
    "9. You are creating a shopping cart for an e-commerce website. Using OOP to model\n",
    "the \"ShoppingCart\" functionality the class should contain following attributes and\n",
    "methods:\n",
    "a. items: Represents the list of items in the shopping cart.\n",
    "The class also includes the following methods:\n",
    "\n",
    "a. add_item(self, item): Adds an item to the shopping cart by appending it to the\n",
    "list of items.\n",
    "b. remove_item(self, item): Removes an item from the shopping cart if it exists in\n",
    "the list.\n",
    "c. view_cart(self): Displays the items currently present in the shopping cart.\n",
    "d. clear_cart(self): Clears all items from the shopping cart by reassigning an\n",
    "empty list to the items attribute."
   ]
  },
  {
   "cell_type": "code",
   "execution_count": 3,
   "metadata": {},
   "outputs": [
    {
     "name": "stdout",
     "output_type": "stream",
     "text": [
      "Added 'Product 1' to the shopping cart.\n",
      "Added 'Product 2' to the shopping cart.\n",
      "Items in the shopping cart:\n",
      "Product 1\n",
      "Product 2\n",
      "Removed 'Product 1' from the shopping cart.\n",
      "Items in the shopping cart:\n",
      "Product 2\n",
      "Shopping cart has been cleared.\n",
      "The shopping cart is empty.\n"
     ]
    }
   ],
   "source": [
    "class ShoppingCart:\n",
    "    def __init__(self):\n",
    "        self.items = []\n",
    "    \n",
    "    def add_item(self, item):\n",
    "        self.items.append(item)\n",
    "        print(f\"Added '{item}' to the shopping cart.\")\n",
    "    \n",
    "    def remove_item(self, item):\n",
    "        if item in self.items:\n",
    "            self.items.remove(item)\n",
    "            print(f\"Removed '{item}' from the shopping cart.\")\n",
    "        else:\n",
    "            print(f\"'{item}' is not in the shopping cart.\")\n",
    "    \n",
    "    def view_cart(self):\n",
    "        if self.items:\n",
    "            print(\"Items in the shopping cart:\")\n",
    "            for item in self.items:\n",
    "                print(item)\n",
    "        else:\n",
    "            print(\"The shopping cart is empty.\")\n",
    "    \n",
    "    def clear_cart(self):\n",
    "        self.items = []\n",
    "        print(\"Shopping cart has been cleared.\")\n",
    "\n",
    "cart = ShoppingCart()\n",
    "cart.add_item(\"Product 1\")\n",
    "cart.add_item(\"Product 2\")\n",
    "cart.view_cart()\n",
    "cart.remove_item(\"Product 1\")\n",
    "cart.view_cart()\n",
    "cart.clear_cart()\n",
    "cart.view_cart()\n"
   ]
  },
  {
   "cell_type": "markdown",
   "metadata": {},
   "source": [
    "10. Imagine a school management system. You have to design the \"Student\" class using\n",
    "OOP concepts.The “Student” class has the following attributes:\n",
    "a. name: Represents the name of the student.\n",
    "b. age: Represents the age of the student.\n",
    "c. grade: Represents the grade or class of the student.\n",
    "d. student_id: Represents the unique identifier for the student.\n",
    "e. attendance: Represents the attendance record of the student.\n",
    "The class should also include the following methods:\n",
    "a. update_attendance(self, date, status): Updates the attendance record of the\n",
    "student for a given date with the provided status (e.g., present or absent).\n",
    "b. get_attendance(self): Returns the attendance record of the student.\n",
    "c. get_average_attendance(self): Calculates and returns the average\n",
    "attendance percentage of the student based on their attendance record."
   ]
  },
  {
   "cell_type": "code",
   "execution_count": 4,
   "metadata": {},
   "outputs": [
    {
     "name": "stdout",
     "output_type": "stream",
     "text": [
      "Attendance for Alice on 2023-08-01 updated: present\n",
      "Attendance for Alice on 2023-08-02 updated: absent\n",
      "Attendance for Alice on 2023-08-03 updated: present\n",
      "Attendance Record: {'2023-08-01': 'present', '2023-08-02': 'absent', '2023-08-03': 'present'}\n",
      "Average Attendance: 66.66666666666666 %\n"
     ]
    }
   ],
   "source": [
    "class Student:\n",
    "    def __init__(self, name, age, grade, student_id):\n",
    "        self.name = name\n",
    "        self.age = age\n",
    "        self.grade = grade\n",
    "        self.student_id = student_id\n",
    "        self.attendance = {} \n",
    "        \n",
    "    def update_attendance(self, date, status):\n",
    "        self.attendance[date] = status\n",
    "        print(f\"Attendance for {self.name} on {date} updated: {status}\")\n",
    "    \n",
    "    def get_attendance(self):\n",
    "        return self.attendance\n",
    "    \n",
    "    def get_average_attendance(self):\n",
    "        if not self.attendance:\n",
    "            return 0.0\n",
    "        \n",
    "        total_days = len(self.attendance)\n",
    "        present_days = sum(status == \"present\" for status in self.attendance.values())\n",
    "        average_attendance = (present_days / total_days) * 100\n",
    "        return average_attendance\n",
    "\n",
    "student1 = Student(\"Alice\", 15, \"10th\", \"S123\")\n",
    "student1.update_attendance(\"2023-08-01\", \"present\")\n",
    "student1.update_attendance(\"2023-08-02\", \"absent\")\n",
    "student1.update_attendance(\"2023-08-03\", \"present\")\n",
    "\n",
    "attendance_record = student1.get_attendance()\n",
    "print(\"Attendance Record:\", attendance_record)\n",
    "\n",
    "average_attendance = student1.get_average_attendance()\n",
    "print(\"Average Attendance:\", average_attendance, \"%\")\n"
   ]
  },
  {
   "cell_type": "markdown",
   "metadata": {},
   "source": []
  }
 ],
 "metadata": {
  "kernelspec": {
   "display_name": "base",
   "language": "python",
   "name": "python3"
  },
  "language_info": {
   "codemirror_mode": {
    "name": "ipython",
    "version": 3
   },
   "file_extension": ".py",
   "mimetype": "text/x-python",
   "name": "python",
   "nbconvert_exporter": "python",
   "pygments_lexer": "ipython3",
   "version": "3.10.9"
  },
  "orig_nbformat": 4
 },
 "nbformat": 4,
 "nbformat_minor": 2
}

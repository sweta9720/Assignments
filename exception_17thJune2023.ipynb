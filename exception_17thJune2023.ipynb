{
 "cells": [
  {
   "cell_type": "markdown",
   "metadata": {},
   "source": [
    "Assignment 17th June 2023 - Solution\n",
    "\n",
    "Submitted by : Sweta Dhara"
   ]
  },
  {
   "cell_type": "markdown",
   "metadata": {},
   "source": [
    "1. What is the role of try and exception block?\n",
    "\n",
    "A: \n",
    "\n",
    "\n",
    "\n",
    "\n",
    "\n",
    "2. What is the syntax for a basic try-except block?\n",
    "\n",
    "A: The syntax of try...except block:\n",
    "\n",
    "try:\n",
    "\n",
    "\n",
    "    # code that may cause exception\n",
    "\n",
    "\n",
    "except:\n",
    "\n",
    "\n",
    "    # code to run when exception occur\n",
    "\n",
    "An example is shown below:"
   ]
  },
  {
   "cell_type": "code",
   "execution_count": 1,
   "metadata": {},
   "outputs": [
    {
     "name": "stdout",
     "output_type": "stream",
     "text": [
      "Error: Denominator cannot be 0.\n"
     ]
    }
   ],
   "source": [
    "try:\n",
    "    numerator = 10\n",
    "    denominator = 0\n",
    "\n",
    "    result = numerator/denominator\n",
    "\n",
    "    print(result)\n",
    "except:\n",
    "    print(\"Error: Denominator cannot be 0.\")\n"
   ]
  },
  {
   "cell_type": "markdown",
   "metadata": {},
   "source": [
    "3. What happens if an exception occurs inside a try block and there is no matching\n",
    "except block?\n",
    "\n",
    "A: If the type of exception doesn't match any of the except blocks, it will remain unhandled and the program will terminate. The default except: block must come after all the except block that catch specific errors; otherwise Python will raise an error.\n",
    "\n",
    "4. What is the difference between using a bare except block and specifying a specific exception type?\n",
    "\n",
    "A: Bare except block:\n",
    "\n",
    "\n",
    "A bare except block catches all exceptions indiscriminately. It doesn't differentiate between different types of exceptions and captures any exception that occurs within the corresponding try block. While this can prevent your program from crashing, it can also hide important information about the nature of the error, making it challenging to diagnose and debug issues. Using a bare except block is generally discouraged because it can lead to poor code quality and difficulty in identifying the root cause of errors.\n",
    "\n",
    "Specifying a specific exception type:\n",
    "\n",
    "\n",
    "When you specify a specific exception type in an except block, you are indicating that you want to handle only that particular type of exception. This allows you to provide targeted handling for specific error scenarios. By being explicit about the types of exceptions you handle, you can write more robust and understandable code. It also helps you catch and address specific issues without masking other unrelated errors\n",
    "\n",
    "5. Can you have nested try-except blocks in Python? If yes, then give an example.\n",
    "\n",
    "A: We can have nested try-except blocks in Python. Example :"
   ]
  },
  {
   "cell_type": "code",
   "execution_count": 1,
   "metadata": {},
   "outputs": [
    {
     "name": "stdout",
     "output_type": "stream",
     "text": [
      "outer try block\n",
      "nested try block\n",
      "outer except block\n",
      "division by zero\n"
     ]
    }
   ],
   "source": [
    "x = 10\n",
    "y = 0\n",
    " \n",
    "try:\n",
    "    print(\"outer try block\")\n",
    "    try:\n",
    "        print(\"nested try block\")\n",
    "        print(x / y)\n",
    "    except TypeError as te:\n",
    "        print(\"nested except block\")\n",
    "        print(te)\n",
    "except ZeroDivisionError as ze:\n",
    "    print(\"outer except block\")\n",
    "    print(ze)"
   ]
  },
  {
   "cell_type": "markdown",
   "metadata": {},
   "source": []
  },
  {
   "cell_type": "markdown",
   "metadata": {},
   "source": [
    "6. Can we use multiple exception blocks, if yes then give an example.\n",
    "\n",
    "A:  Yes, you can use multiple except blocks to handle different types of exceptions in Python. Example:\n"
   ]
  },
  {
   "cell_type": "code",
   "execution_count": 5,
   "metadata": {},
   "outputs": [
    {
     "name": "stdout",
     "output_type": "stream",
     "text": [
      "Something went wrong\n"
     ]
    }
   ],
   "source": [
    "try:\n",
    "           print('1'+1)\n",
    "           print(sum)\n",
    "           print(1/0)\n",
    "except NameError:\n",
    "           print(\"sum does not exist\")\n",
    "except ZeroDivisionError:\n",
    "           print(\"Cannot divide by 0\")\n",
    "except:\n",
    "           print(\"Something went wrong\")"
   ]
  },
  {
   "cell_type": "markdown",
   "metadata": {},
   "source": [
    "7. Write the reason due to which following errors are raised:\n",
    "\n",
    "a. EOFError\n",
    "\n",
    "b. FloatingPointError\n",
    "\n",
    "c. IndexError\n",
    "\n",
    "d. MemoryError\n",
    "\n",
    "e. OverflowError\n",
    "\n",
    "f. TabError\n",
    "\n",
    "g. ValueError\n",
    "\n",
    "A: a. EOFError:\n",
    "This error occurs when an attempt is made to read beyond the end of a file or input stream. It's raised when a function that reads data from a file or input source reaches the end of the file unexpectedly.\n",
    "\n",
    "b. FloatingPointError:\n",
    "This error occurs during floating-point arithmetic operations. It's raised when a mathematical operation involving floating-point numbers results in an undefined or unrepresentable value, such as division by zero in floating-point arithmetic.\n",
    "\n",
    "c. IndexError:\n",
    "This error occurs when trying to access an index of a sequence (like a list or a string) that is out of range. It's raised when you try to access an element using an index that is negative or greater than or equal to the length of the sequence.\n",
    "\n",
    "d. MemoryError:\n",
    "This error occurs when the system cannot allocate the required amount of memory for an operation. It's raised when your program exhausts the available memory due to excessive memory allocation or resource usage.\n",
    "\n",
    "e. OverflowError:\n",
    "This error occurs during arithmetic operations that result in a value that is too large to be represented within the available numeric range. It's raised when a mathematical operation leads to a value that exceeds the maximum representable value for a numeric type.\n",
    "\n",
    "f. TabError:\n",
    "This error is raised when inconsistent use of tabs and spaces is detected in the indentation of code. It usually occurs when mixing tabs and spaces in an indented block, which can confuse Python's interpreter about the intended indentation level.\n",
    "\n",
    "g. ValueError:\n",
    "This error occurs when a function receives an argument of the correct type but with an inappropriate value. It's raised when the data being processed doesn't meet the expected conditions, such as trying to convert a string to an integer when the string doesn't represent a valid integer.\n",
    "\n",
    "8. Write code for the following given scenario and add try-exception block to it.\n",
    "\n",
    "a. Program to divide two numbers\n",
    "\n",
    "b. Program to convert a string to an integer\n",
    "\n",
    "c. Program to access an element in a list\n",
    "\n",
    "d. Program to handle a specific exception\n",
    "\n",
    "e. Program to handle any exception\n",
    "\n",
    "A: a. Program to divide two numbers:"
   ]
  },
  {
   "cell_type": "code",
   "execution_count": 7,
   "metadata": {},
   "outputs": [
    {
     "name": "stdout",
     "output_type": "stream",
     "text": [
      "2.0\n"
     ]
    }
   ],
   "source": [
    "try:\n",
    "    numerator = 10\n",
    "    denominator = 5\n",
    "\n",
    "    result = numerator/denominator\n",
    "\n",
    "    print(result)\n",
    "except:\n",
    "    print(\"Error: Denominator cannot be 0.\")\n"
   ]
  },
  {
   "cell_type": "markdown",
   "metadata": {},
   "source": [
    "b. Program to convert a string to an integer"
   ]
  },
  {
   "cell_type": "code",
   "execution_count": 9,
   "metadata": {},
   "outputs": [
    {
     "name": "stdout",
     "output_type": "stream",
     "text": [
      "Integer: 56\n"
     ]
    }
   ],
   "source": [
    "try:\n",
    "    input_string = \"56\"\n",
    "    integer_value = int(input_string)\n",
    "    print(\"Integer:\", integer_value)\n",
    "except ValueError:\n",
    "    print(\"Invalid input. Please enter a valid integer.\")\n"
   ]
  },
  {
   "cell_type": "markdown",
   "metadata": {},
   "source": [
    "c. Program to access an element in a list:"
   ]
  },
  {
   "cell_type": "code",
   "execution_count": 11,
   "metadata": {},
   "outputs": [
    {
     "name": "stdout",
     "output_type": "stream",
     "text": [
      "Value at index 2 is: 3\n"
     ]
    }
   ],
   "source": [
    "try:\n",
    "    my_list = [1, 2, 3]\n",
    "    index = 2\n",
    "    value = my_list[index]\n",
    "    print(\"Value at index\", index, \"is:\", value)\n",
    "except IndexError:\n",
    "    print(\"Error: Index out of range.\")\n",
    "except ValueError:\n",
    "    print(\"Invalid input. Please enter a valid index.\")\n"
   ]
  },
  {
   "cell_type": "markdown",
   "metadata": {},
   "source": [
    "d. Program to handle a specific exception (e.g., FileNotFoundError):"
   ]
  },
  {
   "cell_type": "code",
   "execution_count": 19,
   "metadata": {},
   "outputs": [
    {
     "name": "stdout",
     "output_type": "stream",
     "text": [
      "Error: File 'file.txt' not found.\n"
     ]
    }
   ],
   "source": [
    "try:\n",
    "    file_name = \"file.txt\"\n",
    "    with open(file_name, 'r') as file:\n",
    "        content = file.read()\n",
    "        print(\"File content:\", content)\n",
    "except FileNotFoundError:\n",
    "    print(\"Error: File 'file.txt' not found.\")\n"
   ]
  },
  {
   "cell_type": "markdown",
   "metadata": {},
   "source": [
    "e. Program to handle any exception:"
   ]
  },
  {
   "cell_type": "code",
   "execution_count": 18,
   "metadata": {},
   "outputs": [
    {
     "name": "stdout",
     "output_type": "stream",
     "text": [
      "Error: Denominator cannot be 0.\n"
     ]
    }
   ],
   "source": [
    "try:\n",
    "    numerator = 10\n",
    "    denominator = 0\n",
    "\n",
    "    result = numerator/denominator\n",
    "\n",
    "    print(result)\n",
    "except:\n",
    "    print(\"Error: Denominator cannot be 0.\")\n"
   ]
  },
  {
   "cell_type": "markdown",
   "metadata": {},
   "source": []
  }
 ],
 "metadata": {
  "kernelspec": {
   "display_name": "venv",
   "language": "python",
   "name": "python3"
  },
  "language_info": {
   "codemirror_mode": {
    "name": "ipython",
    "version": 3
   },
   "file_extension": ".py",
   "mimetype": "text/x-python",
   "name": "python",
   "nbconvert_exporter": "python",
   "pygments_lexer": "ipython3",
   "version": "3.11.1"
  },
  "orig_nbformat": 4
 },
 "nbformat": 4,
 "nbformat_minor": 2
}

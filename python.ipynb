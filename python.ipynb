{
 "cells": [
  {
   "cell_type": "markdown",
   "metadata": {},
   "source": [
    "Python (Functions Assignment) – 1 Solutions\n",
    "\n",
    "\n",
    "Submitted by: Sweta Dhara\n",
    "\n",
    "\n",
    "1. What is a lambda function in Python, and how does it differ from a regular function?\n",
    "\n",
    "\n",
    "A: A lambda function is an anonymous function (i.e., defined without a name) that can take any number of arguments but, unlike normal functions, evaluates and returns only one expression. The lambda functions can be used without any declaration in the namespace. The lambda functions defined above are like single-line functions. These functions do not have parenthesis like the def defined functions but instead, take parameters after the lambda keyword as shown above. There is no return keyword defined explicitly because the lambda function does return an object by default.\n",
    "\n",
    "\n",
    "Lambda functions and regular functions in Python differ in several aspects:\n",
    "\n",
    "\n",
    "Syntax:\n",
    "Lambda functions are defined using the lambda keyword followed by a list of parameters and an expression. They are typically used for simple, one-liner functions.\n",
    "Regular functions are defined using the def keyword followed by a function name, a list of parameters, and a block of code. They can be used for more complex functions that require multiple lines of code.\n",
    "\n",
    "\n",
    "Function Name:\n",
    "Lambda functions are anonymous functions, meaning they don't have a proper name. They are often used for short-lived and single-use scenarios.\n",
    "Regular functions have a proper name, allowing them to be called, reused, and referenced from various parts of the code.\n",
    "Number of Expressions:\n",
    "Lambda functions can only consist of a single expression, which is evaluated and returned as the function's result.\n",
    "Regular functions can contain multiple statements and expressions. They allow you to have more complex logic within the function body.\n",
    "\n",
    "\n",
    "Return Statement:\n",
    "Lambda functions automatically return the result of the expression without requiring an explicit return statement.\n",
    "Regular functions use the return statement to specify the value to be returned explicitly.\n",
    "Usage:\n",
    "Lambda functions are typically used for short, simple operations where a small function is required, such as in functional programming with map(), filter(), and sorted().\n",
    "Regular functions are more versatile and can be used for any kind of operation, regardless of complexity. They are suitable for code reusability and creating well-organized programs.\n",
    "\n",
    "2. Can a lambda function in Python have multiple arguments? If yes, how can you define and use\n",
    "them?\n",
    "\n",
    "\n",
    "A: Yes, a lambda function in Python can have multiple arguments. Example:"
   ]
  },
  {
   "cell_type": "code",
   "execution_count": 4,
   "metadata": {},
   "outputs": [
    {
     "name": "stdout",
     "output_type": "stream",
     "text": [
      "8\n"
     ]
    }
   ],
   "source": [
    "add = lambda x, y: x + y\n",
    "\n",
    "result = add(3, 5)\n",
    "print(result)  # Output: 8\n"
   ]
  },
  {
   "cell_type": "markdown",
   "metadata": {},
   "source": [
    "3. How are lambda functions typically used in Python? Provide an example use case.\n",
    "\n",
    "\n",
    "A: Lambda functions in Python are often used for short, simple operations where you don't want to define a full named function using the def keyword. Lambda functions are useful for small tasks that are not reused throughout your code. They are commonly used in scenarios where you need to pass a function as an argument to another function (higher-order functions) or when you need to define a quick, throwaway function for a specific task.\n",
    "Here's an example use case to illustrate how lambda functions are used:\n",
    "Suppose you have a list of tuples containing names and corresponding ages, and you want to sort the list based on the ages. You can achieve this using the sorted function with a lambda function as the key argument.\n",
    "In the example shown below, the lambda function lambda person: person[1] is used as the key argument to the sorted function. It instructs sorted to sort the list of people based on the second element (age) of each tuple."
   ]
  },
  {
   "cell_type": "code",
   "execution_count": 5,
   "metadata": {},
   "outputs": [
    {
     "name": "stdout",
     "output_type": "stream",
     "text": [
      "[('Bob', 25), ('Eve', 28), ('Alice', 30)]\n"
     ]
    }
   ],
   "source": [
    "people = [(\"Alice\", 30), (\"Bob\", 25), (\"Eve\", 28)]\n",
    "\n",
    "# Sort the list based on ages using a lambda function\n",
    "sorted_people = sorted(people, key=lambda person: person[1])\n",
    "\n",
    "print(sorted_people)\n"
   ]
  },
  {
   "cell_type": "markdown",
   "metadata": {},
   "source": [
    "4. What are the advantages and limitations of lambda functions compared to regular functions in\n",
    "Python?\n",
    "\n",
    "\n",
    "A: Advantages of Lambda Functions:\n",
    "Conciseness: Lambda functions are more concise and can be defined in a single line. This makes them suitable for simple operations where a full named function would be overkill.\n",
    "Readability: For very simple operations, lambda functions can sometimes be more readable due to their inline nature. They keep the operation close to where it's being used.\n",
    "Functional Programming: Lambda functions are commonly used in functional programming paradigms, where you pass functions as arguments to higher-order functions like map, filter, and reduce.\n",
    "Anonymous Functions: Lambda functions are anonymous by nature, which means you don't need to come up with a function name. This can be useful for throwaway functions.\n",
    "Limitations of Lambda Functions:\n",
    "Single Expression: Lambda functions can only contain a single expression. This means you can't have multiple statements or complex logic within a lambda.\n",
    "No Statements: You can't include statements like if, for, or while loops inside a lambda function. Only expressions are allowed.\n",
    "Limited Readability: While lambda functions can be more readable for simple operations, they can become less readable as the complexity of the operation increases. Named functions can have meaningful names that convey their purpose.\n",
    "No Documentation Strings: Lambda functions can't have docstrings, which are essential for providing documentation about the function's purpose and usage.\n",
    "Reduced Reusability: Lambda functions are best suited for one-time or very specific use cases. For functions that you plan to reuse or that have complex logic, regular named functions are more appropriate.\n",
    "Limited Debugging: Debugging lambda functions can be more challenging due to their lack of a meaningful name and the inability to include print statements or breakpoints directly within them.\n",
    "Top of Form\n",
    "\n",
    "5. Are lambda functions in Python able to access variables defined outside of their own scope?\n",
    "Explain with an example.\n",
    "\n",
    "\n",
    "A: Yes, lambda functions in Python can access variables that are defined outside of their own scope. They have access to variables from the surrounding scope where they are created, just like regular functions do. Example shown below:"
   ]
  },
  {
   "cell_type": "code",
   "execution_count": 6,
   "metadata": {},
   "outputs": [
    {
     "name": "stdout",
     "output_type": "stream",
     "text": [
      "18\n"
     ]
    }
   ],
   "source": [
    "def outer_function(x):\n",
    "    y = 10\n",
    "\n",
    "    # Define a lambda function inside the outer function\n",
    "    lambda_func = lambda a: a + x + y\n",
    "\n",
    "    return lambda_func\n",
    "\n",
    "# Create an instance of the lambda function\n",
    "my_lambda = outer_function(5)\n",
    "\n",
    "# Call the lambda function\n",
    "result = my_lambda(3)\n",
    "\n",
    "print(result)  # Output: 18 (3 + 5 + 10)\n"
   ]
  },
  {
   "cell_type": "markdown",
   "metadata": {},
   "source": [
    "6. Write a lambda function to calculate the square of a given number."
   ]
  },
  {
   "cell_type": "code",
   "execution_count": 7,
   "metadata": {},
   "outputs": [
    {
     "name": "stdout",
     "output_type": "stream",
     "text": [
      "25\n"
     ]
    }
   ],
   "source": [
    "square = lambda x: x ** 2\n",
    "\n",
    "# Using the lambda function\n",
    "result = square(5)\n",
    "print(result)  # Output: 25\n"
   ]
  },
  {
   "cell_type": "markdown",
   "metadata": {},
   "source": [
    "7. Create a lambda function to find the maximum value in a list of integers."
   ]
  },
  {
   "cell_type": "code",
   "execution_count": 8,
   "metadata": {},
   "outputs": [
    {
     "name": "stdout",
     "output_type": "stream",
     "text": [
      "25\n"
     ]
    }
   ],
   "source": [
    "find_max = lambda lst: max(lst)\n",
    "\n",
    "# Using the lambda function\n",
    "numbers = [5, 12, 8, 25, 3, 10]\n",
    "max_value = find_max(numbers)\n",
    "print(max_value)  # Output: 25\n"
   ]
  },
  {
   "cell_type": "markdown",
   "metadata": {},
   "source": [
    "8. Implement a lambda function to filter out all the even numbers from a list of integers."
   ]
  },
  {
   "cell_type": "code",
   "execution_count": 9,
   "metadata": {},
   "outputs": [
    {
     "name": "stdout",
     "output_type": "stream",
     "text": [
      "[12, 8, 10]\n"
     ]
    }
   ],
   "source": [
    "filter_even = lambda lst: list(filter(lambda x: x % 2 == 0, lst))\n",
    "\n",
    "# Using the lambda function\n",
    "numbers = [5, 12, 8, 25, 3, 10]\n",
    "even_numbers = filter_even(numbers)\n",
    "print(even_numbers)  # Output: [12, 8, 10]\n"
   ]
  },
  {
   "cell_type": "markdown",
   "metadata": {},
   "source": [
    "9. Write a lambda function to sort a list of strings in ascending order based on the length of each\n",
    "string.\n"
   ]
  },
  {
   "cell_type": "code",
   "execution_count": 11,
   "metadata": {},
   "outputs": [
    {
     "name": "stdout",
     "output_type": "stream",
     "text": [
      "['date', 'apple', 'banana', 'cherry', 'blueberry']\n"
     ]
    }
   ],
   "source": [
    "sort_by_length = lambda lst: sorted(lst, key=lambda x: len(x))\n",
    "\n",
    "# Using the lambda function\n",
    "strings = [\"apple\", \"banana\", \"cherry\", \"date\", \"blueberry\"]\n",
    "sorted_strings = sort_by_length(strings)\n",
    "print(sorted_strings)\n"
   ]
  },
  {
   "cell_type": "markdown",
   "metadata": {},
   "source": [
    "10. Create a lambda function that takes two lists as input and returns a new list containing the\n",
    "common elements between the two lists."
   ]
  },
  {
   "cell_type": "code",
   "execution_count": 12,
   "metadata": {},
   "outputs": [
    {
     "name": "stdout",
     "output_type": "stream",
     "text": [
      "[3, 4, 5]\n"
     ]
    }
   ],
   "source": [
    "find_common_elements = lambda list1, list2: list(filter(lambda x: x in list2, list1))\n",
    "\n",
    "# Using the lambda function\n",
    "list1 = [1, 2, 3, 4, 5]\n",
    "list2 = [3, 4, 5, 6, 7]\n",
    "common_elements = find_common_elements(list1, list2)\n",
    "print(common_elements)  # Output: [3, 4, 5]\n"
   ]
  },
  {
   "cell_type": "markdown",
   "metadata": {},
   "source": [
    "11. Write a recursive function to calculate the factorial of a given positive integer."
   ]
  },
  {
   "cell_type": "code",
   "execution_count": 13,
   "metadata": {},
   "outputs": [
    {
     "name": "stdout",
     "output_type": "stream",
     "text": [
      "The factorial of 5 is 120\n"
     ]
    }
   ],
   "source": [
    "def factorial(n):\n",
    "    if n == 0 or n == 1:\n",
    "        return 1\n",
    "    else:\n",
    "        return n * factorial(n - 1)\n",
    "\n",
    "# Test the recursive factorial function\n",
    "number = 5\n",
    "result = factorial(number)\n",
    "print(f\"The factorial of {number} is {result}\")\n"
   ]
  },
  {
   "cell_type": "markdown",
   "metadata": {},
   "source": [
    "12. Implement a recursive function to compute the nth Fibonacci number."
   ]
  },
  {
   "cell_type": "code",
   "execution_count": 14,
   "metadata": {},
   "outputs": [
    {
     "name": "stdout",
     "output_type": "stream",
     "text": [
      "The 10th Fibonacci number is 55\n"
     ]
    }
   ],
   "source": [
    "def fibonacci(n):\n",
    "    if n <= 0:\n",
    "        return 0\n",
    "    elif n == 1:\n",
    "        return 1\n",
    "    else:\n",
    "        return fibonacci(n - 1) + fibonacci(n - 2)\n",
    "\n",
    "# Test the recursive Fibonacci function\n",
    "n = 10\n",
    "result = fibonacci(n)\n",
    "print(f\"The {n}th Fibonacci number is {result}\")\n"
   ]
  },
  {
   "cell_type": "markdown",
   "metadata": {},
   "source": [
    "13. Create a recursive function to find the sum of all the elements in a given list."
   ]
  },
  {
   "cell_type": "code",
   "execution_count": 15,
   "metadata": {},
   "outputs": [
    {
     "name": "stdout",
     "output_type": "stream",
     "text": [
      "The sum of the elements in the list is 15\n"
     ]
    }
   ],
   "source": [
    "def recursive_sum(lst):\n",
    "    if len(lst) == 0:\n",
    "        return 0\n",
    "    else:\n",
    "        return lst[0] + recursive_sum(lst[1:])\n",
    "\n",
    "# Test the recursive sum function\n",
    "numbers = [1, 2, 3, 4, 5]\n",
    "result = recursive_sum(numbers)\n",
    "print(f\"The sum of the elements in the list is {result}\")\n"
   ]
  },
  {
   "cell_type": "markdown",
   "metadata": {},
   "source": [
    "14. Write a recursive function to determine whether a given string is a palindrome."
   ]
  },
  {
   "cell_type": "code",
   "execution_count": 16,
   "metadata": {},
   "outputs": [
    {
     "name": "stdout",
     "output_type": "stream",
     "text": [
      "radar is a palindrome.\n"
     ]
    }
   ],
   "source": [
    "def is_palindrome(s):\n",
    "    s = s.lower()  # Convert to lowercase for case-insensitive comparison\n",
    "    if len(s) <= 1:\n",
    "        return True\n",
    "    elif s[0] != s[-1]:\n",
    "        return False\n",
    "    else:\n",
    "        return is_palindrome(s[1:-1])\n",
    "\n",
    "# Test the palindrome function\n",
    "string = \"radar\"\n",
    "if is_palindrome(string):\n",
    "    print(f\"{string} is a palindrome.\")\n",
    "else:\n",
    "    print(f\"{string} is not a palindrome.\")\n"
   ]
  },
  {
   "cell_type": "markdown",
   "metadata": {},
   "source": [
    "15. Implement a recursive function to find the greatest common divisor (GCD) of two positive integers."
   ]
  },
  {
   "cell_type": "code",
   "execution_count": 17,
   "metadata": {},
   "outputs": [
    {
     "name": "stdout",
     "output_type": "stream",
     "text": [
      "The GCD of 48 and 18 is 6\n"
     ]
    }
   ],
   "source": [
    "def gcd(a, b):\n",
    "    if b == 0:\n",
    "        return a\n",
    "    else:\n",
    "        return gcd(b, a % b)\n",
    "\n",
    "# Test the GCD function\n",
    "num1 = 48\n",
    "num2 = 18\n",
    "result = gcd(num1, num2)\n",
    "print(f\"The GCD of {num1} and {num2} is {result}\")\n"
   ]
  }
 ],
 "metadata": {
  "kernelspec": {
   "display_name": "venv",
   "language": "python",
   "name": "python3"
  },
  "language_info": {
   "codemirror_mode": {
    "name": "ipython",
    "version": 3
   },
   "file_extension": ".py",
   "mimetype": "text/x-python",
   "name": "python",
   "nbconvert_exporter": "python",
   "pygments_lexer": "ipython3",
   "version": "3.11.1"
  },
  "orig_nbformat": 4
 },
 "nbformat": 4,
 "nbformat_minor": 2
}

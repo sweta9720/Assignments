{
 "cells": [
  {
   "cell_type": "markdown",
   "metadata": {},
   "source": [
    "Assignment 18th June 2023 - Solution\n",
    "\n",
    "Submitted by : Sweta Dhara"
   ]
  },
  {
   "cell_type": "markdown",
   "metadata": {},
   "source": [
    "1. What is the role of the 'else' block in a try-except statement? Provide an example\n",
    "scenario where it would be useful.\n",
    "\n",
    "A: In a Python try-except statement, the else block is used to define a section of code that should be executed only if no exceptions were raised in the corresponding try block. In other words, if the try block runs successfully without any exceptions being raised, the code in the else block will be executed. If an exception occurs in the try block, the code in the else block will be skipped. Example: "
   ]
  },
  {
   "cell_type": "code",
   "execution_count": 2,
   "metadata": {},
   "outputs": [
    {
     "name": "stdout",
     "output_type": "stream",
     "text": [
      "Error: Cannot divide by zero!\n"
     ]
    }
   ],
   "source": [
    "def divide(a, b):\n",
    "    try:\n",
    "        result = a / b\n",
    "    except ZeroDivisionError:\n",
    "        print(\"Error: Cannot divide by zero!\")\n",
    "    else:\n",
    "        print(\"Division result:\", result)\n",
    "\n",
    "divide(10, 0)"
   ]
  },
  {
   "cell_type": "markdown",
   "metadata": {},
   "source": [
    "2. Can a try-except block be nested inside another try-except block? Explain with an\n",
    "example.\n",
    "\n",
    "A: Yes,if an exception is raised in the nested try block, the nested except block is used to handle it. Example: "
   ]
  },
  {
   "cell_type": "code",
   "execution_count": 8,
   "metadata": {},
   "outputs": [
    {
     "name": "stdout",
     "output_type": "stream",
     "text": [
      "Error: Cannot divide by zero!\n"
     ]
    }
   ],
   "source": [
    "def divide_and_process(a, b):\n",
    "    try:\n",
    "        result = a / b\n",
    "    except ZeroDivisionError:\n",
    "        print(\"Error: Cannot divide by zero!\")\n",
    "    else:\n",
    "        try:\n",
    "            square_root = result ** 0.5\n",
    "        except ValueError:\n",
    "            print(\"Error: Unable to calculate square root for negative result.\")\n",
    "        else:\n",
    "            print(\"Division result:\", result)\n",
    "            print(\"Square root of the result:\", square_root)\n",
    "\n",
    "divide_and_process(25, 0)\n"
   ]
  },
  {
   "cell_type": "markdown",
   "metadata": {},
   "source": [
    "3. How can you create a custom exception class in Python? Provide an example that\n",
    "demonstrates its usage.\n",
    "\n",
    "A: In Python, we can define custom exceptions by creating a new class that is derived from the built-in Exception Class. Example:"
   ]
  },
  {
   "cell_type": "code",
   "execution_count": 10,
   "metadata": {},
   "outputs": [
    {
     "name": "stdout",
     "output_type": "stream",
     "text": [
      "Custom error: Age cannot be negative\n"
     ]
    }
   ],
   "source": [
    "class CustomError(Exception):\n",
    "    def __init__(self, message):\n",
    "        self.message = message\n",
    "        super().__init__(self.message)\n",
    "\n",
    "def validate_age(age):\n",
    "    if age < 0:\n",
    "        raise CustomError(\"Age cannot be negative\")\n",
    "\n",
    "try:\n",
    "    user_age = -5\n",
    "    validate_age(user_age)\n",
    "except CustomError as ce:\n",
    "    print(\"Custom error:\", ce.message)\n"
   ]
  },
  {
   "cell_type": "markdown",
   "metadata": {},
   "source": [
    "4. What are some common exceptions that are built-in to Python?\n",
    "\n",
    "A: Some common exceptions are as follows:\n",
    "\n",
    "SyntaxError: Raised when there's a syntax error in the code.\n",
    "\n",
    "IndentationError: Raised when there's an incorrect indentation in the code.\n",
    "\n",
    "NameError: Raised when a local or global name is not found.\n",
    "\n",
    "TypeError: Raised when an operation or function is applied to an object of inappropriate type.\n",
    "\n",
    "ValueError: Raised when an operation or function receives an argument of the correct type but an inappropriate value.\n",
    "\n",
    "IndexError: Raised when an index for a sequence (like a list or string) is out of range.\n",
    "\n",
    "KeyError: Raised when a dictionary key is not found.\n",
    "\n",
    "FileNotFoundError: Raised when trying to open a file that does not exist.\n",
    "\n",
    "ZeroDivisionError: Raised when trying to divide by zero.\n",
    "\n",
    "AttributeError: Raised when an attribute reference or assignment fails.\n",
    "\n",
    "ImportError: Raised when an imported module cannot be found or loaded.\n",
    "\n",
    "IOError: Raised when an input/output operation fails, such as trying to read from a closed file.\n",
    "\n",
    "RuntimeError: A generic base class for various runtime errors.\n",
    "\n",
    "KeyboardInterrupt: Raised when the user interrupts the program's execution (usually by pressing Ctrl+C).\n",
    "\n",
    "MemoryError: Raised when an operation runs out of memory.\n",
    "\n",
    "OverflowError: Raised when an arithmetic operation exceeds the limits of the data type.\n",
    "\n",
    "UnboundLocalError: Raised when a local variable is referenced before assignment.\n",
    "\n",
    "AssertionError: Raised when an assert statement fails.\n",
    "\n",
    "5. What is logging in Python, and why is it important in software development?\n",
    "\n",
    "A: Logging is a way to store information about your script and track events that occur. When writing any complex script in Python, logging is essential for debugging software as you develop it. Without logging, finding the source of a problem in your code may be extremely time consuming.\n",
    "\n",
    "6. Explain the purpose of log levels in Python logging and provide examples of when\n",
    "each log level would be appropriate.\n",
    "\n",
    "A: Log levels relate to the “importance” of the log. For example, an “error” log is a top priority and should be considered more urgent than a “warn” log. A “debug” log is usually only useful when the application is being debugged. A \"info\" log is usually shown on confirmation that things are working as expected. A \"warning\" is shown as an indication that something unexpected happened, or indicative of some problem in the near future (e.g. ‘disk space low’). The software is still working as expected. A \"critical\" log is usually when a serious error, indicating that the program itself may be unable to continue running.\n",
    "\n",
    "7. What are log formatters in Python logging, and how can you customise the log\n",
    "message format using formatters?\n",
    "\n",
    "A: Log formatters are used to define the layout and structure of log messages. They determine how the information is presented when a log entry is recorded, including the timestamp, log level, logger name, and the actual log message. The logging module provides a default formatter, but we can create our own custom formatters to tailor the log messages to your needs."
   ]
  },
  {
   "cell_type": "code",
   "execution_count": 16,
   "metadata": {},
   "outputs": [
    {
     "name": "stderr",
     "output_type": "stream",
     "text": [
      "2023-08-26 12:49:10,302 - custom_logger - DEBUG - This is a debug message\n",
      "2023-08-26 12:49:10,302 - custom_logger - DEBUG - This is a debug message\n",
      "2023-08-26 12:49:10,302 - custom_logger - DEBUG - This is a debug message\n",
      "2023-08-26 12:49:10,302 - custom_logger - DEBUG - This is a debug message\n",
      "2023-08-26 12:49:10,309 - custom_logger - INFO - This is an info message\n",
      "2023-08-26 12:49:10,309 - custom_logger - INFO - This is an info message\n",
      "2023-08-26 12:49:10,309 - custom_logger - INFO - This is an info message\n",
      "2023-08-26 12:49:10,309 - custom_logger - INFO - This is an info message\n",
      "2023-08-26 12:49:10,316 - custom_logger - WARNING - This is a warning message\n",
      "2023-08-26 12:49:10,316 - custom_logger - WARNING - This is a warning message\n",
      "2023-08-26 12:49:10,316 - custom_logger - WARNING - This is a warning message\n",
      "2023-08-26 12:49:10,316 - custom_logger - WARNING - This is a warning message\n",
      "2023-08-26 12:49:10,320 - custom_logger - ERROR - This is an error message\n",
      "2023-08-26 12:49:10,320 - custom_logger - ERROR - This is an error message\n",
      "2023-08-26 12:49:10,320 - custom_logger - ERROR - This is an error message\n",
      "2023-08-26 12:49:10,320 - custom_logger - ERROR - This is an error message\n",
      "2023-08-26 12:49:10,327 - custom_logger - CRITICAL - This is a critical message\n",
      "2023-08-26 12:49:10,327 - custom_logger - CRITICAL - This is a critical message\n",
      "2023-08-26 12:49:10,327 - custom_logger - CRITICAL - This is a critical message\n",
      "2023-08-26 12:49:10,327 - custom_logger - CRITICAL - This is a critical message\n"
     ]
    }
   ],
   "source": [
    "import logging\n",
    "\n",
    "# Create a custom formatter\n",
    "formatter = logging.Formatter('%(asctime)s - %(name)s - %(levelname)s - %(message)s')\n",
    "\n",
    "# Create a logger\n",
    "logger = logging.getLogger('custom_logger')\n",
    "logger.setLevel(logging.DEBUG)\n",
    "\n",
    "# Create a handler and attach the formatter to it\n",
    "handler = logging.StreamHandler()\n",
    "handler.setFormatter(formatter)\n",
    "logger.addHandler(handler)\n",
    "\n",
    "# Log some messages\n",
    "logger.debug('This is a debug message')\n",
    "logger.info('This is an info message')\n",
    "logger.warning('This is a warning message')\n",
    "logger.error('This is an error message')\n",
    "logger.critical('This is a critical message')\n"
   ]
  },
  {
   "cell_type": "markdown",
   "metadata": {},
   "source": [
    "8. How can you set up logging to capture log messages from multiple modules or\n",
    "classes in a Python application?\n",
    "\n",
    "A: Setting up logging to capture log messages from multiple modules or classes in a Python application involves creating a centralized logging configuration that can be shared across different parts of your application. This ensures that log messages from various modules or classes are captured and recorded according to your desired configuration. We can achieve this by:\n",
    "\n",
    "Creating a Centralized Logging Configuration and Importing and Using the Centralized Configuration.\n",
    "\n",
    "9. What is the difference between the logging and print statements in Python? When\n",
    "should you use logging over print statements in a real-world application?\n",
    "\n",
    "A:  Logging in Python:  Record events and errors that occur during the execution of Python programs.\n",
    "Mainly used in the production environment.\n",
    "It provides different log levels such as Debug, Info, Error, Warning, and Critical.\n",
    "\n",
    "Print in Python: Displays the information to the console for the debugging purposes.\n",
    "Mainly for debugging.\n",
    "It does not have any levels, it simply prints whatever is passed to it.\n",
    "\n",
    "When writing any complex script in Python, logging is essential for debugging software as you develop it. Without logging, finding the source of a problem in your code may be extremely time consuming.\n",
    "\n",
    "10. Write a Python program that logs a message to a file named \"app.log\" with the\n",
    "following requirements:\n",
    "● The log message should be \"Hello, World!\"\n",
    "● The log level should be set to \"INFO.\"\n",
    "● The log file should append new log entries without overwriting previous ones.\n",
    "\n",
    "A: The program is shown below: \n",
    "[Title](app.log): 2023-08-28 11:11:05,134 - INFO - Hello, World!\n",
    "2023-08-28 11:13:36,219 - ERROR - Exception: ZeroDivisionError - division by zero\n"
   ]
  },
  {
   "cell_type": "code",
   "execution_count": 17,
   "metadata": {},
   "outputs": [],
   "source": [
    "import logging\n",
    "\n",
    "# Configure logging\n",
    "logging.basicConfig(filename='app.log', level=logging.INFO, format='%(asctime)s - %(levelname)s - %(message)s')\n",
    "\n",
    "# Log the message\n",
    "logging.info(\"Hello, World!\")\n"
   ]
  },
  {
   "cell_type": "markdown",
   "metadata": {},
   "source": [
    "11. Create a Python program that logs an error message to the console and a file named\n",
    "\"errors.log\" if an exception occurs during the program's execution. The error\n",
    "message should include the exception type and a timestamp.\n",
    "\n",
    "A: The program is shown below: "
   ]
  },
  {
   "cell_type": "code",
   "execution_count": 18,
   "metadata": {},
   "outputs": [
    {
     "ename": "NameError",
     "evalue": "name 'time' is not defined",
     "output_type": "error",
     "traceback": [
      "\u001b[1;31m---------------------------------------------------------------------------\u001b[0m",
      "\u001b[1;31mZeroDivisionError\u001b[0m                         Traceback (most recent call last)",
      "Cell \u001b[1;32mIn[18], line 11\u001b[0m, in \u001b[0;36mmain\u001b[1;34m()\u001b[0m\n\u001b[0;32m      9\u001b[0m \u001b[39mtry\u001b[39;00m:\n\u001b[0;32m     10\u001b[0m     \u001b[39m# Your main program logic here\u001b[39;00m\n\u001b[1;32m---> 11\u001b[0m     result \u001b[39m=\u001b[39m \u001b[39m10\u001b[39;49m \u001b[39m/\u001b[39;49m \u001b[39m0\u001b[39;49m  \u001b[39m# This will cause a ZeroDivisionError\u001b[39;00m\n\u001b[0;32m     12\u001b[0m \u001b[39mexcept\u001b[39;00m \u001b[39mException\u001b[39;00m \u001b[39mas\u001b[39;00m e:\n\u001b[0;32m     13\u001b[0m     \u001b[39m# Log the exception to the console and the error log file\u001b[39;00m\n",
      "\u001b[1;31mZeroDivisionError\u001b[0m: division by zero",
      "\nDuring handling of the above exception, another exception occurred:\n",
      "\u001b[1;31mNameError\u001b[0m                                 Traceback (most recent call last)",
      "Cell \u001b[1;32mIn[18], line 29\u001b[0m\n\u001b[0;32m     26\u001b[0m         traceback\u001b[39m.\u001b[39mprint_exc(file\u001b[39m=\u001b[39mf)\n\u001b[0;32m     28\u001b[0m \u001b[39mif\u001b[39;00m \u001b[39m__name__\u001b[39m \u001b[39m==\u001b[39m \u001b[39m\"\u001b[39m\u001b[39m__main__\u001b[39m\u001b[39m\"\u001b[39m:\n\u001b[1;32m---> 29\u001b[0m     main()\n",
      "Cell \u001b[1;32mIn[18], line 14\u001b[0m, in \u001b[0;36mmain\u001b[1;34m()\u001b[0m\n\u001b[0;32m     11\u001b[0m     result \u001b[39m=\u001b[39m \u001b[39m10\u001b[39m \u001b[39m/\u001b[39m \u001b[39m0\u001b[39m  \u001b[39m# This will cause a ZeroDivisionError\u001b[39;00m\n\u001b[0;32m     12\u001b[0m \u001b[39mexcept\u001b[39;00m \u001b[39mException\u001b[39;00m \u001b[39mas\u001b[39;00m e:\n\u001b[0;32m     13\u001b[0m     \u001b[39m# Log the exception to the console and the error log file\u001b[39;00m\n\u001b[1;32m---> 14\u001b[0m     log_exception(e)\n",
      "Cell \u001b[1;32mIn[18], line 22\u001b[0m, in \u001b[0;36mlog_exception\u001b[1;34m(exception)\u001b[0m\n\u001b[0;32m     20\u001b[0m \u001b[39m# Log exception to file\u001b[39;00m\n\u001b[0;32m     21\u001b[0m \u001b[39mwith\u001b[39;00m \u001b[39mopen\u001b[39m(\u001b[39m'\u001b[39m\u001b[39merrors.log\u001b[39m\u001b[39m'\u001b[39m, \u001b[39m'\u001b[39m\u001b[39ma\u001b[39m\u001b[39m'\u001b[39m) \u001b[39mas\u001b[39;00m f:\n\u001b[1;32m---> 22\u001b[0m     timestamp \u001b[39m=\u001b[39m logging\u001b[39m.\u001b[39mFormatter()\u001b[39m.\u001b[39mformatTime(logging\u001b[39m.\u001b[39mFormatter()\u001b[39m.\u001b[39mconverter(\u001b[39mint\u001b[39m(time\u001b[39m.\u001b[39mtime())))\n\u001b[0;32m     23\u001b[0m     f\u001b[39m.\u001b[39mwrite(\u001b[39mf\u001b[39m\u001b[39m\"\u001b[39m\u001b[39m{\u001b[39;00mtimestamp\u001b[39m}\u001b[39;00m\u001b[39m - Exception: \u001b[39m\u001b[39m{\u001b[39;00mexception\u001b[39m.\u001b[39m\u001b[39m__class__\u001b[39m\u001b[39m.\u001b[39m\u001b[39m__name__\u001b[39m\u001b[39m}\u001b[39;00m\u001b[39m - \u001b[39m\u001b[39m{\u001b[39;00mexception\u001b[39m}\u001b[39;00m\u001b[39m\\n\u001b[39;00m\u001b[39m\"\u001b[39m)\n\u001b[0;32m     25\u001b[0m     \u001b[39m# Log stack trace to file\u001b[39;00m\n",
      "\u001b[1;31mNameError\u001b[0m: name 'time' is not defined"
     ]
    }
   ],
   "source": [
    "import logging\n",
    "import traceback\n",
    "import sys\n",
    "\n",
    "def main():\n",
    "    # Configure logging\n",
    "    logging.basicConfig(level=logging.ERROR, format='%(asctime)s - %(levelname)s - %(message)s')\n",
    "    \n",
    "    try:\n",
    "        # Your main program logic here\n",
    "        result = 10 / 0  # This will cause a ZeroDivisionError\n",
    "    except Exception as e:\n",
    "        # Log the exception to the console and the error log file\n",
    "        log_exception(e)\n",
    "\n",
    "def log_exception(exception):\n",
    "    # Log exception to console\n",
    "    logging.error(f\"Exception: {exception.__class__.__name__} - {exception}\")\n",
    "    \n",
    "    # Log exception to file\n",
    "    with open('errors.log', 'a') as f:\n",
    "        timestamp = logging.Formatter().formatTime(logging.Formatter().converter(int(time.time())))\n",
    "        f.write(f\"{timestamp} - Exception: {exception.__class__.__name__} - {exception}\\n\")\n",
    "        \n",
    "        # Log stack trace to file\n",
    "        traceback.print_exc(file=f)\n",
    "\n",
    "if __name__ == \"__main__\":\n",
    "    main()\n"
   ]
  }
 ],
 "metadata": {
  "kernelspec": {
   "display_name": "base",
   "language": "python",
   "name": "python3"
  },
  "language_info": {
   "codemirror_mode": {
    "name": "ipython",
    "version": 3
   },
   "file_extension": ".py",
   "mimetype": "text/x-python",
   "name": "python",
   "nbconvert_exporter": "python",
   "pygments_lexer": "ipython3",
   "version": "3.10.9"
  },
  "orig_nbformat": 4
 },
 "nbformat": 4,
 "nbformat_minor": 2
}

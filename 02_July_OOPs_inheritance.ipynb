{
 "cells": [
  {
   "cell_type": "markdown",
   "metadata": {},
   "source": [
    "Assignment 02_July_OOPs_inheritance.ipynb - Solution\n",
    "\n",
    "Submitted by : Sweta Dhara"
   ]
  },
  {
   "cell_type": "markdown",
   "metadata": {},
   "source": [
    "1. Explain what inheritance is in object-oriented programming and why it is used.\n",
    "\n",
    "A: Inheritance is the ability to ‘inherit’ features or attributes from already written classes into newer classes we make. These features and attributes are defined data structures and the functions we can perform with them, a.k.a. Methods. It promotes code reusability, which is considered one of the best industrial coding practices as it makes the codebase modular. Inheritance allows us to define a class that inherits all the methods and properties from another class\n",
    "\n",
    "\n",
    "2. Discuss the concept of single inheritance and multiple inheritance, highlighting their differences and advantages.\n",
    "\n",
    "A: Single inheritance enables a derived class to inherit properties from a single parent class, thus enabling code reusability and the addition of new features to existing code.\n",
    "\n",
    "When a class can be derived from more than one base class this type of inheritance is called multiple inheritances. In multiple inheritances, all the features of the base classes are inherited into the derived class. \n",
    "\n",
    "Differences:\n",
    "\n",
    "Number of Superclasses:\n",
    "\n",
    "Single Inheritance: One superclass.\n",
    "\n",
    "Multiple Inheritance: Multiple superclasses.\n",
    "\n",
    "Class Hierarchy:\n",
    "\n",
    "Single Inheritance: Creates a linear hierarchy with a clear parent-child relationship.\n",
    "Multiple Inheritance: Creates a complex hierarchy with potentially multiple parent classes at the same level.\n",
    "Ambiguities and Diamond Problem:\n",
    "\n",
    "Single Inheritance: No ambiguity in method resolution since there's only one parent class.\n",
    "Multiple Inheritance: Can lead to the \"diamond problem,\" where a common ancestor class is inherited by two unrelated parent classes. This can create ambiguity in method resolution for the subclass.\n",
    "\n",
    "Advantages:\n",
    "\n",
    "Single Inheritance:\n",
    "\n",
    "Simplicity: Single inheritance results in a simpler class hierarchy, making it easier to understand and maintain.\n",
    "Reduced Ambiguity: There are no conflicts in method resolution, avoiding the complexities of the diamond problem.\n",
    "Multiple Inheritance:\n",
    "\n",
    "Code Reuse: Multiple inheritance allows a class to inherit attributes and behaviors from multiple sources, promoting code reuse.\n",
    "Rich Functionality: A subclass can combine features from different parent classes, resulting in a more feature-rich class.\n",
    "Enhanced Modularity: Classes with specific functionalities can be designed and reused across different projects\n",
    "\n",
    "3. Explain the terms \"base class\" and \"derived class\" in the context of inheritance.\n",
    "\n",
    "A: Base Class (Superclass):\n",
    "A base class, also known as a superclass or parent class, is a class that provides a blueprint for creating other classes. It contains common attributes and methods that are shared by multiple related classes. The base class is not directly instantiated; instead, it serves as a template for creating more specialized classes, which are known as derived classes.\n",
    "\n",
    "Derived Class (Subclass):\n",
    "A derived class, also known as a subclass or child class, is a class that inherits attributes and methods from a base class. It extends the functionality of the base class by adding or modifying attributes and behaviors. A derived class can reuse the attributes and methods of its base class and can also have its own unique attributes and methods. The derived class can further extend the hierarchy by becoming the base class for other subclasses.\n",
    "\n",
    "Inheritance allows a derived class to inherit the characteristics of a base class while providing the flexibility to customize and specialize its behavior. \n",
    "\n",
    "\n",
    "4. What is the significance of the \"protected\" access modifier in inheritance? How does it differ from \"private\" and \"public\" modifiers?\n",
    "\n",
    "A: The members of a class that are declared protected are only accessible to a class derived from it. Data members of a class are declared protected by adding a single underscore ‘_’ symbol before the data member of that class. \n",
    "While Python doesn't enforce strict visibility rules, a convention is followed that indicates that these members should not be accessed from outside the class, but they can be accessed in derived classes (subclasses). Protected members are used to indicate that a member is internal to the class and its subclasses.\n",
    "\n",
    "The members of a class that are declared public are easily accessible from any part of the program. All data members and member functions of a class are public by default. \n",
    "\n",
    "The members of a class that are declared private are accessible within the class only, private access modifier is the most secure access modifier. Data members of a class are declared private by adding a double underscore ‘__’ symbol before the data member of that class. \n",
    "\n",
    "\n",
    "5. What is the purpose of the \"super\" keyword in inheritance? Provide an example.\n",
    "\n",
    "A: The super keyword in inheritance is used to call methods and access attributes of a parent (or superclass) from within a subclass. It allows a subclass to invoke the methods of its parent class, enabling code reuse and overriding behavior while maintaining the functionality provided by the parent class. The super keyword is particularly useful when a subclass wants to extend or customize a method from the parent class.\n",
    "\n",
    "Here's an example to illustrate the purpose of the super keyword: \n"
   ]
  },
  {
   "cell_type": "code",
   "execution_count": 2,
   "metadata": {},
   "outputs": [
    {
     "name": "stdout",
     "output_type": "stream",
     "text": [
      "Buddy makes a sound\n",
      "Buddy barks\n"
     ]
    }
   ],
   "source": [
    "class Animal:\n",
    "    def __init__(self, name):\n",
    "        self.name = name\n",
    "    \n",
    "    def speak(self):\n",
    "        print(f\"{self.name} makes a sound\")\n",
    "\n",
    "class Dog(Animal):\n",
    "    def __init__(self, name, breed):\n",
    "        super().__init__(name) \n",
    "        self.breed = breed\n",
    "    \n",
    "    def speak(self):\n",
    "        super().speak()  \n",
    "        print(f\"{self.name} barks\")\n",
    "\n",
    "dog = Dog(\"Buddy\", \"Golden Retriever\")\n",
    "\n",
    "dog.speak()\n"
   ]
  },
  {
   "cell_type": "markdown",
   "metadata": {},
   "source": [
    "6. Create a base class called \"Vehicle\" with attributes like \"make\", \"model\", and \"year\".Then, create a derived class called \"Car\" that inherits from \"Vehicle\" and adds an attribute called \"fuel_type\". Implement appropriate methods in both classes."
   ]
  },
  {
   "cell_type": "code",
   "execution_count": 3,
   "metadata": {},
   "outputs": [
    {
     "name": "stdout",
     "output_type": "stream",
     "text": [
      "Make: Toyota\n",
      "Model: Camry\n",
      "Year: 2022\n",
      "Fuel Type: Gasoline\n"
     ]
    }
   ],
   "source": [
    "class Vehicle:\n",
    "    def __init__(self, make, model, year):\n",
    "        self.make = make\n",
    "        self.model = model\n",
    "        self.year = year\n",
    "    \n",
    "    def display_info(self):\n",
    "        print(f\"Make: {self.make}\")\n",
    "        print(f\"Model: {self.model}\")\n",
    "        print(f\"Year: {self.year}\")\n",
    "\n",
    "class Car(Vehicle):\n",
    "    def __init__(self, make, model, year, fuel_type):\n",
    "        super().__init__(make, model, year) \n",
    "        self.fuel_type = fuel_type\n",
    "    \n",
    "    def display_info(self):  \n",
    "        super().display_info()  \n",
    "        print(f\"Fuel Type: {self.fuel_type}\")\n",
    "\n",
    "car = Car(\"Toyota\", \"Camry\", 2022, \"Gasoline\")\n",
    "\n",
    "car.display_info()\n"
   ]
  },
  {
   "cell_type": "markdown",
   "metadata": {},
   "source": [
    "7. Create a base class called \"Employee\" with attributes like \"name\" and \"salary.\"\n",
    "Derive two classes, \"Manager\" and \"Developer,\" from \"Employee.\" Add an additional\n",
    "attribute called \"department\" for the \"Manager\" class and \"programming_language\"\n",
    "for the \"Developer\" class."
   ]
  },
  {
   "cell_type": "code",
   "execution_count": 4,
   "metadata": {},
   "outputs": [
    {
     "name": "stdout",
     "output_type": "stream",
     "text": [
      "Name: John Smith\n",
      "Salary: $80000.00\n",
      "Department: Marketing\n",
      "Name: Alice Johnson\n",
      "Salary: $65000.00\n",
      "Programming Language: Python\n"
     ]
    }
   ],
   "source": [
    "class Employee:\n",
    "    def __init__(self, name, salary):\n",
    "        self.name = name\n",
    "        self.salary = salary\n",
    "    \n",
    "    def display_info(self):\n",
    "        print(f\"Name: {self.name}\")\n",
    "        print(f\"Salary: ${self.salary:.2f}\")\n",
    "\n",
    "class Manager(Employee):\n",
    "    def __init__(self, name, salary, department):\n",
    "        super().__init__(name, salary)  # Call the base class constructor\n",
    "        self.department = department\n",
    "    \n",
    "    def display_info(self):  # Overriding the method from the base class\n",
    "        super().display_info()  # Call the base class method\n",
    "        print(f\"Department: {self.department}\")\n",
    "\n",
    "class Developer(Employee):\n",
    "    def __init__(self, name, salary, programming_language):\n",
    "        super().__init__(name, salary)  \n",
    "        self.programming_language = programming_language\n",
    "    \n",
    "    def display_info(self):  \n",
    "        super().display_info()  \n",
    "        print(f\"Programming Language: {self.programming_language}\")\n",
    "\n",
    "\n",
    "manager = Manager(\"John Smith\", 80000, \"Marketing\")\n",
    "\n",
    "\n",
    "developer = Developer(\"Alice Johnson\", 65000, \"Python\")\n",
    "\n",
    "manager.display_info()\n",
    "developer.display_info()\n"
   ]
  },
  {
   "cell_type": "markdown",
   "metadata": {},
   "source": [
    "8. Design a base class called \"Shape\" with attributes like \"colour\" and \"border_width.\"\n",
    "Create derived classes, \"Rectangle\" and \"Circle,\" that inherit from \"Shape\" and add\n",
    "specific attributes like \"length\" and \"width\" for the \"Rectangle\" class and \"radius\" for\n",
    "the \"Circle\" class."
   ]
  },
  {
   "cell_type": "code",
   "execution_count": 5,
   "metadata": {},
   "outputs": [
    {
     "name": "stdout",
     "output_type": "stream",
     "text": [
      "Colour: Blue\n",
      "Border Width: 2\n",
      "Length: 10\n",
      "Width: 5\n",
      "Colour: Red\n",
      "Border Width: 1\n",
      "Radius: 7\n"
     ]
    }
   ],
   "source": [
    "class Shape:\n",
    "    def __init__(self, colour, border_width):\n",
    "        self.colour = colour\n",
    "        self.border_width = border_width\n",
    "    \n",
    "    def display_info(self):\n",
    "        print(f\"Colour: {self.colour}\")\n",
    "        print(f\"Border Width: {self.border_width}\")\n",
    "\n",
    "class Rectangle(Shape):\n",
    "    def __init__(self, colour, border_width, length, width):\n",
    "        super().__init__(colour, border_width)  # Call the b\n",
    "        self.length = length\n",
    "        self.width = width\n",
    "    \n",
    "    def display_info(self):\n",
    "        super().display_info()  \n",
    "        print(f\"Length: {self.length}\")\n",
    "        print(f\"Width: {self.width}\")\n",
    "\n",
    "class Circle(Shape):\n",
    "    def __init__(self, colour, border_width, radius):\n",
    "        super().__init__(colour, border_width)  \n",
    "        self.radius = radius\n",
    "    \n",
    "    def display_info(self): \n",
    "        super().display_info() \n",
    "        print(f\"Radius: {self.radius}\")\n",
    "\n",
    "\n",
    "rectangle = Rectangle(\"Blue\", 2, 10, 5)\n",
    "\n",
    "circle = Circle(\"Red\", 1, 7)\n",
    "\n",
    "\n",
    "rectangle.display_info()\n",
    "circle.display_info()\n"
   ]
  },
  {
   "cell_type": "markdown",
   "metadata": {},
   "source": [
    "9. Create a base class called \"Device\" with attributes like \"brand\" and \"model.\" Derive\n",
    "two classes, \"Phone\" and \"Tablet,\" from \"Device.\" Add specific attributes like\n",
    "\"screen_size\" for the \"Phone\" class and \"battery_capacity\" for the \"Tablet\" class."
   ]
  },
  {
   "cell_type": "code",
   "execution_count": 7,
   "metadata": {},
   "outputs": [
    {
     "name": "stdout",
     "output_type": "stream",
     "text": [
      "Brand: Apple\n",
      "Model: iPhone 13\n",
      "Screen Size: 6.1 inches\n",
      "Brand: Samsung\n",
      "Model: Galaxy Tab S7\n",
      "Battery Capacity: 8000 mAh\n"
     ]
    }
   ],
   "source": [
    "class Device:\n",
    "    def __init__(self, brand, model):\n",
    "        self.brand = brand\n",
    "        self.model = model\n",
    "    \n",
    "    def display_info(self):\n",
    "        print(f\"Brand: {self.brand}\")\n",
    "        print(f\"Model: {self.model}\")\n",
    "\n",
    "class Phone(Device):\n",
    "    def __init__(self, brand, model, screen_size):\n",
    "        super().__init__(brand, model)  \n",
    "        self.screen_size = screen_size\n",
    "    \n",
    "    def display_info(self):  \n",
    "        super().display_info()  \n",
    "        print(f\"Screen Size: {self.screen_size}\")\n",
    "\n",
    "class Tablet(Device):\n",
    "    def __init__(self, brand, model, battery_capacity):\n",
    "        super().__init__(brand, model)  \n",
    "        self.battery_capacity = battery_capacity\n",
    "    \n",
    "    def display_info(self):  \n",
    "        super().display_info()  \n",
    "        print(f\"Battery Capacity: {self.battery_capacity} mAh\")\n",
    "\n",
    "phone = Phone(\"Apple\", \"iPhone 13\", \"6.1 inches\")\n",
    "\n",
    "tablet = Tablet(\"Samsung\", \"Galaxy Tab S7\", \"8000\")\n",
    "\n",
    "phone.display_info()\n",
    "tablet.display_info()\n"
   ]
  },
  {
   "cell_type": "markdown",
   "metadata": {},
   "source": [
    "10. Create a base class called \"BankAccount\" with attributes like \"account_number\" and\n",
    "\"balance.\" Derive two classes, \"SavingsAccount\" and \"CheckingAccount,\" from\n",
    "\"BankAccount.\" Add specific methods like \"calculate_interest\" for the\n",
    "\"SavingsAccount\" class and \"deduct_fees\" for the \"CheckingAccount\" class."
   ]
  },
  {
   "cell_type": "code",
   "execution_count": 8,
   "metadata": {},
   "outputs": [
    {
     "name": "stdout",
     "output_type": "stream",
     "text": [
      "Interest added: $50.00\n",
      "Fees deducted: $10.00\n",
      "Account Number: 123456\n",
      "Balance: $1050.00\n",
      "Account Number: 789012\n",
      "Balance: $490.00\n"
     ]
    }
   ],
   "source": [
    "class BankAccount:\n",
    "    def __init__(self, account_number, balance):\n",
    "        self.account_number = account_number\n",
    "        self.balance = balance\n",
    "    \n",
    "    def display_info(self):\n",
    "        print(f\"Account Number: {self.account_number}\")\n",
    "        print(f\"Balance: ${self.balance:.2f}\")\n",
    "\n",
    "class SavingsAccount(BankAccount):\n",
    "    def __init__(self, account_number, balance):\n",
    "        super().__init__(account_number, balance)  \n",
    "    \n",
    "    def calculate_interest(self, rate):\n",
    "        interest = self.balance * (rate / 100)\n",
    "        self.balance += interest\n",
    "        print(f\"Interest added: ${interest:.2f}\")\n",
    "    \n",
    "class CheckingAccount(BankAccount):\n",
    "    def __init__(self, account_number, balance):\n",
    "        super().__init__(account_number, balance)  \n",
    "    \n",
    "    def deduct_fees(self, fee):\n",
    "        if self.balance >= fee:\n",
    "            self.balance -= fee\n",
    "            print(f\"Fees deducted: ${fee:.2f}\")\n",
    "        else:\n",
    "            print(\"Insufficient balance to deduct fees.\")\n",
    "\n",
    "\n",
    "savings_account = SavingsAccount(\"123456\", 1000.0)\n",
    "\n",
    "\n",
    "checking_account = CheckingAccount(\"789012\", 500.0)\n",
    "\n",
    "\n",
    "savings_account.calculate_interest(5.0)  \n",
    "checking_account.deduct_fees(10.0) \n",
    "\n",
    "savings_account.display_info()\n",
    "checking_account.display_info()\n"
   ]
  },
  {
   "cell_type": "code",
   "execution_count": null,
   "metadata": {},
   "outputs": [],
   "source": []
  }
 ],
 "metadata": {
  "kernelspec": {
   "display_name": "base",
   "language": "python",
   "name": "python3"
  },
  "language_info": {
   "codemirror_mode": {
    "name": "ipython",
    "version": 3
   },
   "file_extension": ".py",
   "mimetype": "text/x-python",
   "name": "python",
   "nbconvert_exporter": "python",
   "pygments_lexer": "ipython3",
   "version": "3.10.9"
  },
  "orig_nbformat": 4
 },
 "nbformat": 4,
 "nbformat_minor": 2
}
